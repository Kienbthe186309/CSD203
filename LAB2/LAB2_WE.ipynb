{
 "cells": [
  {
   "cell_type": "markdown",
   "id": "4c5e7acb-9349-4571-b980-c01d93363a41",
   "metadata": {},
   "source": [
    "# <font color='blue'>Writing exercises</font>"
   ]
  },
  {
   "cell_type": "markdown",
   "id": "4f6ba54d-0715-42db-8ca7-2080a5517b81",
   "metadata": {},
   "source": [
    "## QUESTION 1:\n"
   ]
  },
  {
   "cell_type": "code",
   "execution_count": 8,
   "id": "5c2fede3-b270-4216-b810-222346d7537a",
   "metadata": {
    "tags": []
   },
   "outputs": [
    {
     "name": "stdout",
     "output_type": "stream",
     "text": [
      "3 2 3 5 3 "
     ]
    }
   ],
   "source": [
    "x = 3\n",
    "y = 5\n",
    "z = 2\n",
    "\n",
    "s.makeEmpty()\n",
    "s.push(x)\n",
    "s.push(4)\n",
    "s.pop()\n",
    "s.push(y)\n",
    "s.push(3)\n",
    "s.push(z)\n",
    "s.pop()\n",
    "s.push(2)\n",
    "s.push(x)\n",
    "\n",
    "while not s.isEmpty():\n",
    "    print(s.pop(), end=\" \")\n"
   ]
  },
  {
   "cell_type": "markdown",
   "id": "1373248b-6224-490b-a75c-e7c6995ee04c",
   "metadata": {},
   "source": [
    "## QUESTION 2:\n"
   ]
  },
  {
   "cell_type": "code",
   "execution_count": null,
   "id": "534e0cef-deae-4272-ac5d-889ebdaf717f",
   "metadata": {},
   "outputs": [],
   "source": [
    "x = 3\n",
    "y = 1\n",
    "s = Stack()\n",
    "\n",
    "s.makeEmpty()\n",
    "s.push(5)\n",
    "s.push(7)\n",
    "s.pop()\n",
    "x += y\n",
    "s.pop()\n",
    "s.push(x)\n",
    "s.push(y)\n",
    "s.push(2)\n",
    "s.pop()\n",
    "s.pop()\n",
    "\n",
    "while not s.isEmpty():\n",
    "    y = s.pop()\n",
    "    print(y)\n",
    "\n",
    "print('x =', x)\n",
    "print('y =', y)"
   ]
  },
  {
   "cell_type": "markdown",
   "id": "ffeda6b1-e4f1-4afa-b40b-1144d252afb0",
   "metadata": {},
   "source": [
    "\n",
    "2 \n",
    "1 \n",
    "3\n",
    "x = 4\n",
    "y = 1"
   ]
  },
  {
   "cell_type": "markdown",
   "id": "92aac4f6-3d81-453e-a9e5-06834263f464",
   "metadata": {},
   "source": [
    "## QUESTION 3:\n"
   ]
  },
  {
   "cell_type": "markdown",
   "id": "8c6b1037-e059-4af0-8c81-12967f84ae9e",
   "metadata": {},
   "source": [
    "#### Operations: E A S * Y * Q U E * * * S T * * * I O * N * * *\n",
    "#### OUTPUT:\n",
    "#### E, S, U, O, N, I, T, Y, E, S"
   ]
  },
  {
   "cell_type": "markdown",
   "id": "82763099-6846-4ffc-98ad-df8f54830698",
   "metadata": {},
   "source": [
    "## QUESTION 4:\n"
   ]
  },
  {
   "cell_type": "markdown",
   "id": "01241348-617e-48f9-9cf1-ca2696d50548",
   "metadata": {},
   "source": [
    "#### Operations: L A * S T I * N * F I R * S T * * O U * T * * * * * *\n",
    "#### Contents of s[0], ..., s[4] after the operations:\n",
    "#### T, S, N, I, L"
   ]
  },
  {
   "cell_type": "markdown",
   "id": "ddcf0a2f-4d88-41f5-994d-589f83f2361d",
   "metadata": {},
   "source": [
    "## QUESTION 5:\n"
   ]
  },
  {
   "cell_type": "markdown",
   "id": "47ae1cc4-8f3c-4090-946f-9a43a55525f8",
   "metadata": {},
   "source": [
    "#### Operations: E A S * Y * Q U E * * * S T * * * I O * N * * *\n",
    "#### Sequence of values returned by dequeue operations:\n",
    "#### E, Y, U, I, S, T, I, O, N"
   ]
  },
  {
   "cell_type": "code",
   "execution_count": null,
   "id": "2c0ee87f-53e1-4896-bb9b-082e77f51c8c",
   "metadata": {},
   "outputs": [],
   "source": []
  }
 ],
 "metadata": {
  "kernelspec": {
   "display_name": "Python 3 (ipykernel)",
   "language": "python",
   "name": "python3"
  },
  "language_info": {
   "codemirror_mode": {
    "name": "ipython",
    "version": 3
   },
   "file_extension": ".py",
   "mimetype": "text/x-python",
   "name": "python",
   "nbconvert_exporter": "python",
   "pygments_lexer": "ipython3",
   "version": "3.11.5"
  }
 },
 "nbformat": 4,
 "nbformat_minor": 5
}
