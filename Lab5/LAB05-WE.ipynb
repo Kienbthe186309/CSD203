{
 "cells": [
  {
   "cell_type": "markdown",
   "id": "97443ce0-091e-4f44-b948-af9300fc62b0",
   "metadata": {},
   "source": [
    "## Q1"
   ]
  },
  {
   "cell_type": "markdown",
   "id": "ef776813-7a3e-4e52-a21d-651d5c6b6e94",
   "metadata": {},
   "source": [
    "#### breadth-first traversal from vertex b would be: b, a, c, d, e, f, g, h, i"
   ]
  },
  {
   "cell_type": "markdown",
   "id": "bdc3691e-20e1-41bf-9266-c35af510a343",
   "metadata": {},
   "source": [
    "## Q2"
   ]
  },
  {
   "cell_type": "raw",
   "id": "2f60e6e8-d51e-47b6-8a61-da5e7316c97e",
   "metadata": {},
   "source": [
    "The graph represents as follows:\n",
    "       A\n",
    "     / | \\\n",
    "    B  C  D\n",
    "   / \\    |\n",
    "  E   C   F\n",
    "   \\ /  \n",
    "    G"
   ]
  },
  {
   "cell_type": "markdown",
   "id": "aee96830-acaa-4113-aee8-c83b71209eca",
   "metadata": {},
   "source": [
    "#### breadth-first traversal from vertex A would be: A, B, C, D, G, E, F."
   ]
  },
  {
   "cell_type": "markdown",
   "id": "07592658-4d1a-4d92-9a66-607d8af30f70",
   "metadata": {},
   "source": [
    "## Q3"
   ]
  },
  {
   "cell_type": "markdown",
   "id": "f3bd45bd-8825-42f1-b382-54b41b324466",
   "metadata": {},
   "source": [
    "#### depth-first traversal from vertex A: A,G,E,B,C,D,F"
   ]
  },
  {
   "cell_type": "markdown",
   "id": "75f3f80d-17ab-4450-af51-fbd90f3ff947",
   "metadata": {},
   "source": [
    "## Q7"
   ]
  },
  {
   "cell_type": "markdown",
   "id": "a132a3ef-353b-4675-8334-f96b55c8a2e3",
   "metadata": {},
   "source": [
    "#### Initialize an empty stack S and an empty array E.\n",
    "#### Push vertex A to stack S.\n",
    "#### While stack S is not empty:\n",
    "#### Take the top element ch from stack S.\n",
    "#### If ch is isolated (degree 0), remove it from stack S and append it to array E.\n",
    "#### Otherwise, select the first vertex Y adjacent to ch (by alphabet order), push Y to stack S, and remove the edge (ch, Y) from the graph.\n",
    "#### The array E obtained will be an Euler cycle of the graph.\n",
    "#### Euler cycle: A -> B -> D -> C -> B -> A\n"
   ]
  },
  {
   "cell_type": "markdown",
   "id": "e7421dbe-7f61-4def-9adf-17a64c86c54a",
   "metadata": {},
   "source": [
    "## Q8"
   ]
  },
  {
   "cell_type": "markdown",
   "id": "794ddd84-4c77-4f07-9cb8-ff9d13e896a5",
   "metadata": {},
   "source": [
    "#### A possible Euler path could be:\n",
    "#### A -> B -> C -> B -> D\n"
   ]
  },
  {
   "cell_type": "markdown",
   "id": "b6c9247b-7b08-4899-bd5d-e56374153055",
   "metadata": {},
   "source": [
    "## Q9"
   ]
  },
  {
   "cell_type": "markdown",
   "id": "cdf80e75-b6eb-4d9a-903a-c31b6b4b2a8d",
   "metadata": {},
   "source": [
    "#### Therefore, a Hamilton cycle exists in the given multigraph G, and an example of the Hamilton cycle is:\n",
    "\n",
    "#### A -> B -> C -> E -> D -> A"
   ]
  },
  {
   "cell_type": "markdown",
   "id": "682ba7b0-b9c1-43c6-9e44-6c574d19bc36",
   "metadata": {},
   "source": [
    "## Q11"
   ]
  },
  {
   "cell_type": "raw",
   "id": "54e4dd99-9b7f-477b-a4fa-dd841812f5bc",
   "metadata": {},
   "source": [
    "Minimum Spanning Tree (MST):\n",
    "A - C: 4\n",
    "C - B: 2\n",
    "C - D: 6\n",
    "D - F: 7\n",
    "D - G: 12\n",
    "D - E: 0 (not selected)\n",
    "Total edge-weight of the MST = 4 + 2 + 6 + 7 + 12 = 31\n"
   ]
  },
  {
   "cell_type": "code",
   "execution_count": null,
   "id": "9961b049-c1e6-4e8e-b5d2-1a5fbb6ab5d2",
   "metadata": {},
   "outputs": [],
   "source": []
  }
 ],
 "metadata": {
  "kernelspec": {
   "display_name": "Python 3 (ipykernel)",
   "language": "python",
   "name": "python3"
  },
  "language_info": {
   "codemirror_mode": {
    "name": "ipython",
    "version": 3
   },
   "file_extension": ".py",
   "mimetype": "text/x-python",
   "name": "python",
   "nbconvert_exporter": "python",
   "pygments_lexer": "ipython3",
   "version": "3.11.5"
  }
 },
 "nbformat": 4,
 "nbformat_minor": 5
}
