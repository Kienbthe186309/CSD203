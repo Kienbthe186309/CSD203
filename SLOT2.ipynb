{
 "cells": [
  {
   "cell_type": "markdown",
   "id": "753aacfc-6257-429b-87aa-9e04d9c2ebf4",
   "metadata": {},
   "source": [
    "## Problem 1"
   ]
  },
  {
   "cell_type": "code",
   "execution_count": 2,
   "id": "0284d8ac-4aca-4b69-bfbb-5a2ac64f9b46",
   "metadata": {
    "tags": []
   },
   "outputs": [
    {
     "name": "stdin",
     "output_type": "stream",
     "text": [
      "Enter the number of elements in the array:  5\n"
     ]
    },
    {
     "name": "stdout",
     "output_type": "stream",
     "text": [
      "Enter the elements of the array:\n"
     ]
    },
    {
     "name": "stdin",
     "output_type": "stream",
     "text": [
      " 1\n",
      " 2\n",
      " 3\n",
      " 4\n",
      " 5\n"
     ]
    },
    {
     "name": "stdout",
     "output_type": "stream",
     "text": [
      "Array: [1, 2, 3, 4, 5]\n",
      "The position of the element closest to the average is: 3\n"
     ]
    }
   ],
   "source": [
    "def find_nearest_to_average(arr):\n",
    "    average = sum(arr) / len(arr)\n",
    "    closest_value = arr[0]\n",
    "    min_difference = abs(arr[0] - average)\n",
    "    closest_index = 0\n",
    "\n",
    "    for i in range(1, len(arr)):\n",
    "        difference = abs(arr[i] - average)\n",
    "        if difference < min_difference:\n",
    "            min_difference = difference\n",
    "            closest_value = arr[i]\n",
    "            closest_index = i\n",
    "\n",
    "    return closest_index\n",
    "n = int(input(\"Enter the number of elements in the array: \"))\n",
    "arr = []\n",
    "\n",
    "print(\"Enter the elements of the array:\")\n",
    "for i in range(n):\n",
    "    element = int(input())\n",
    "    arr.append(element)\n",
    "print(\"Array:\", arr)\n",
    "\n",
    "index = find_nearest_to_average(arr)\n",
    "print(f\"The position of the element closest to the average is: {index + 1}\")  # Adding 1 to show position starting from 1\n"
   ]
  },
  {
   "cell_type": "markdown",
   "id": "62ae17fe-ea66-4a33-bd38-5d86730885c2",
   "metadata": {},
   "source": [
    "## Problem 2"
   ]
  },
  {
   "cell_type": "code",
   "execution_count": 4,
   "id": "372b6c26-7067-4330-8f43-147bd31eb20e",
   "metadata": {
    "tags": []
   },
   "outputs": [
    {
     "name": "stdin",
     "output_type": "stream",
     "text": [
      "Enter the grade in decimal system (0-10):  9\n"
     ]
    },
    {
     "name": "stdout",
     "output_type": "stream",
     "text": [
      "Grade in alphabetic system: A\n",
      "Grade in 4th system: 4.0\n"
     ]
    }
   ],
   "source": [
    "def decimal_to_alphabetic(grade):\n",
    "    if grade >= 9:\n",
    "        return 'A'\n",
    "    elif grade >= 8:\n",
    "        return 'B'\n",
    "    elif grade >= 6.5:\n",
    "        return 'C'\n",
    "    elif grade >= 5:\n",
    "        return 'D'\n",
    "    else:\n",
    "        return 'F'\n",
    "\n",
    "def decimal_to_4th_system(grade):\n",
    "    if grade >= 9:\n",
    "        return 4.0\n",
    "    elif 8 <= grade < 9:\n",
    "        return 3.5\n",
    "    elif 7 <= grade < 8:\n",
    "        return 3.0\n",
    "    elif 6 <= grade < 7:\n",
    "        return 2.0\n",
    "    else:\n",
    "        return 0.0\n",
    "\n",
    "while True:\n",
    "    grade_decimal = float(input(\"Enter the grade in decimal system (0-10): \"))\n",
    "    if 0 <= grade_decimal <= 10:\n",
    "        break\n",
    "    else:\n",
    "        print(\"Please enter a valid grade between 0 and 10.\")\n",
    "\n",
    "grade_alphabetic = decimal_to_alphabetic(grade_decimal)\n",
    "grade_4th_system = decimal_to_4th_system(grade_decimal)\n",
    "\n",
    "print(f\"Grade in alphabetic system: {grade_alphabetic}\")\n",
    "print(f\"Grade in 4th system: {grade_4th_system}\")"
   ]
  },
  {
   "cell_type": "markdown",
   "id": "e5908b3c-2fc9-4730-87a7-ec0e4305e945",
   "metadata": {},
   "source": [
    "## Problem 3"
   ]
  },
  {
   "cell_type": "code",
   "execution_count": 17,
   "id": "50349531-6f3f-44b8-a397-27b9d104fb35",
   "metadata": {
    "tags": []
   },
   "outputs": [
    {
     "name": "stdin",
     "output_type": "stream",
     "text": [
      "Enter the elements of the array separated by spaces:  6 8 5 4 6 8 9 1 4 9 12\n"
     ]
    },
    {
     "name": "stdout",
     "output_type": "stream",
     "text": [
      "Original List: ['6', '8', '5', '4', '6', '8', '9', '1', '4', '9', '12']\n",
      "List with Duplicates Removed: ['6', '8', '5', '4', '9', '1', '12']\n"
     ]
    }
   ],
   "source": [
    "input_str = input(\"Enter the elements of the array separated by spaces: \")\n",
    "input_list = input_str.split()\n",
    "\n",
    "unique_list = []\n",
    "for num in input_list:\n",
    "    if num not in unique_list:\n",
    "        unique_list.append(num)\n",
    "\n",
    "print(\"Original List:\", input_list)\n",
    "print(\"List with Duplicates Removed:\", unique_list)"
   ]
  },
  {
   "cell_type": "code",
   "execution_count": null,
   "id": "ccf90a68-6100-41db-b95a-69fbbec47dad",
   "metadata": {},
   "outputs": [],
   "source": []
  }
 ],
 "metadata": {
  "kernelspec": {
   "display_name": "Python 3 (ipykernel)",
   "language": "python",
   "name": "python3"
  },
  "language_info": {
   "codemirror_mode": {
    "name": "ipython",
    "version": 3
   },
   "file_extension": ".py",
   "mimetype": "text/x-python",
   "name": "python",
   "nbconvert_exporter": "python",
   "pygments_lexer": "ipython3",
   "version": "3.11.5"
  }
 },
 "nbformat": 4,
 "nbformat_minor": 5
}
