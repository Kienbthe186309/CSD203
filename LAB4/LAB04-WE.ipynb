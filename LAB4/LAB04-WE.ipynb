{
 "cells": [
  {
   "cell_type": "markdown",
   "id": "b1241a0c-8487-43a2-a7c9-65706d082b66",
   "metadata": {},
   "source": [
    "## Q1:"
   ]
  },
  {
   "cell_type": "markdown",
   "id": "9c273fde-375b-4a5e-bbb3-f978788f9112",
   "metadata": {},
   "source": [
    "### (a):"
   ]
  },
  {
   "cell_type": "markdown",
   "id": "6f69dcfc-9674-4682-87be-7f8ed0a41c63",
   "metadata": {
    "tags": []
   },
   "source": [
    "##### Preorder Traversal: D, B, A, C, F, E, G\n",
    "\n",
    "##### Inorder Traversal: A, B, C, D, E, F, G\n",
    "\n",
    "##### Postorder Traversal: A, C, B, E, G, F, D\n",
    "\n",
    "##### Level-Order Traversal: D, B, F, A, C, E, G"
   ]
  },
  {
   "cell_type": "markdown",
   "id": "16d41420-aaeb-42a9-9137-b78f62282433",
   "metadata": {},
   "source": [
    "### (b):"
   ]
  },
  {
   "cell_type": "markdown",
   "id": "b065eee5-d3dc-424f-b667-70ffa2389220",
   "metadata": {},
   "source": [
    "##### Preorder Traversal: C, B, A, D, E\n",
    "\n",
    "##### Inorder Traversal: A, B, C, D, E\n",
    "\n",
    "##### Postorder Traversal: A, B, E, D, C\n",
    "\n",
    "##### Level-Order Traversal: C, B, D, A, E"
   ]
  },
  {
   "cell_type": "markdown",
   "id": "9fcd304d-6abf-4521-8178-2d491c97f2ff",
   "metadata": {},
   "source": [
    "### (c):"
   ]
  },
  {
   "cell_type": "code",
   "execution_count": null,
   "id": "55019b3d-1eda-4a38-bb66-435c50c58fbc",
   "metadata": {},
   "outputs": [],
   "source": [
    "##### Preorder Traversal: E, C, B, A, D, H, F, G, I\n",
    "\n",
    "##### Inorder Traversal: A, B, C, D, E, F, G, H, I\n",
    "\n",
    "##### Postorder Traversal: A, B, D, C, G, F, I, H, E\n",
    "\n",
    "##### Level-Order Traversal: E, C, H, B, D, F, I, A, G"
   ]
  },
  {
   "cell_type": "markdown",
   "id": "282b84bb-827e-4428-a977-566cead3cced",
   "metadata": {},
   "source": [
    "## Q2:"
   ]
  },
  {
   "cell_type": "markdown",
   "id": "6dd85a4d-79e2-42bb-a73e-a51bea4b8071",
   "metadata": {},
   "source": [
    "### Sequence: 01\n",
    "### Binary Search Tree:"
   ]
  },
  {
   "cell_type": "markdown",
   "id": "4fd319e4-22d3-4f2e-ab2a-683ff7ad7bb8",
   "metadata": {},
   "source": [
    "        4\n",
    "       / \\\n",
    "      3   11\n",
    "     /   /  \\\n",
    "    1   5    15\n",
    "       / \\\n",
    "      2   9\n",
    "         /\n",
    "        6\n",
    "         \\\n",
    "         12\n"
   ]
  },
  {
   "cell_type": "markdown",
   "id": "b08f652d-25ec-47a2-b67b-075b0f48bc97",
   "metadata": {},
   "source": [
    "##### Preorder Traversal: 4, 3, 1, 2, 11, 5, 9, 6, 15, 12\n",
    "##### Inorder Traversal: 1, 2, 3, 4, 5, 6, 9, 11, 12, 15\n",
    "##### Postorder Traversal: 2, 1, 3, 6, 9, 5, 12, 15, 11, 4\n",
    "##### Level-order Traversal: 4, 3, 11, 1, 5, 15, 2, 9, 12, 6"
   ]
  },
  {
   "cell_type": "markdown",
   "id": "783d9d81-202f-421b-aa37-18e7a5fa9355",
   "metadata": {},
   "source": [
    "### Sequence: 02\n",
    "### Binary Search Tree:"
   ]
  },
  {
   "cell_type": "raw",
   "id": "7295b840-4781-4c10-a964-83d59d99a2dd",
   "metadata": {
    "tags": []
   },
   "source": [
    "        12\n",
    "       /  \\\n",
    "      7    1\n",
    "     / \\    \\\n",
    "    3   10   2\n",
    "   / \\      / \\\n",
    "  2   5    8   9\n",
    " / \\\n",
    "6   9\n"
   ]
  },
  {
   "cell_type": "markdown",
   "id": "228db213-941d-4123-80f6-d1437a331d81",
   "metadata": {},
   "source": [
    "##### Preorder Traversal: 12, 7, 3, 2, 1, 10, 5, 8, 6, 9\n",
    "##### Inorder Traversal: 1, 2, 3, 5, 6, 7, 8, 9, 10, 12\n",
    "##### Postorder Traversal: 2, 6, 9, 8, 5, 3, 1, 10, 7, 12\n",
    "##### Level-order Traversal: 12, 7, 1, 10, 3, 2, 5, 8, 6, 9"
   ]
  },
  {
   "cell_type": "markdown",
   "id": "1dbf6d53-a74a-401a-9823-e9ee94793ab5",
   "metadata": {},
   "source": [
    "### After Deleting Keys in (1):\n",
    "### Binary Search Tree:"
   ]
  },
  {
   "cell_type": "markdown",
   "id": "14cb0479-9cd4-45ee-b7b3-97bab0e92734",
   "metadata": {},
   "source": [
    "        4\n",
    "       / \\\n",
    "      5   12\n",
    "     / \\\n",
    "    6   15\n",
    "       /\n",
    "      9\n"
   ]
  },
  {
   "cell_type": "markdown",
   "id": "1935a4fe-2e72-4403-8956-68d78840a867",
   "metadata": {},
   "source": [
    "##### Preorder Traversal: 4, 5, 6, 15, 9, 12\n",
    "##### Inorder Traversal: 4, 5, 6, 9, 12, 15\n",
    "##### Postorder Traversal: 6, 9, 15, 12, 5, 4\n",
    "##### Level-order Traversal: 4, 5, 12, 6, 15, 9"
   ]
  },
  {
   "cell_type": "markdown",
   "id": "790b425b-37d8-4a33-951d-9abd5dfdd24e",
   "metadata": {},
   "source": [
    "### After Deleting Keys in (2):\n",
    "### Binary Search Tree:"
   ]
  },
  {
   "cell_type": "raw",
   "id": "d0928d5a-68b7-4274-8976-77847e703839",
   "metadata": {},
   "source": [
    "        12\n",
    "       /  \\\n",
    "      8    1\n",
    "     /\n",
    "    3\n",
    "   /\n",
    "   2\n"
   ]
  },
  {
   "cell_type": "markdown",
   "id": "108e27e4-645a-49cc-a22c-a0e375a999b0",
   "metadata": {},
   "source": [
    "##### Preorder Traversal: 12, 8, 3, 2, 1\n",
    "##### Inorder Traversal: 1, 2, 3, 8, 12\n",
    "##### Postorder Traversal: 2, 1, 3, 8, 12\n",
    "##### Level-order Traversal: 12, 8, 1, 3, 2"
   ]
  },
  {
   "cell_type": "markdown",
   "id": "635aaa10-46b5-4248-a095-3f03f098ba89",
   "metadata": {},
   "source": [
    "## Q3:"
   ]
  },
  {
   "cell_type": "markdown",
   "id": "b47da02c-671a-4c49-8fd7-3b94f374aee7",
   "metadata": {
    "tags": []
   },
   "source": [
    "##### <font color='blue'>Sequence (1) 4, 3, 1, 11, 5, 9, 2, 6, 15, 12:</font>\n",
    "##### Preorder Traversal: 4, 2, 1, 3, 11, 5, 9, 6, 15, 12\n",
    "##### Inorder Traversal: 1, 2, 3, 4, 5, 6, 9, 11, 12, 15\n",
    "##### Postorder Traversal: 1, 3, 2, 6, 9, 5, 12, 15, 11, 4\n",
    "##### Level-order Traversal: 4, 2, 11, 1, 3, 5, 15, 6, 9, 12\n",
    "##### <font color='blue'>Sequence (2) 12, 7, 1, 3, 2, 5, 10, 8, 6, 9:</font>\n",
    "##### Preorder Traversal: 8, 3, 1, 2, 7, 6, 5, 10, 9, 12\n",
    "##### Inorder Traversal: 1, 2, 3, 5, 6, 7, 8, 9, 10, 12\n",
    "##### Postorder Traversal: 2, 1, 6, 5, 9, 10, 7, 3, 12, 8\n",
    "##### Level-order Traversal: 8, 3, 10, 1, 7, 9, 12, 2, 5, 6"
   ]
  },
  {
   "cell_type": "markdown",
   "id": "df0d60be-6cd8-4465-a252-c54260deecbe",
   "metadata": {},
   "source": [
    "## Q4:"
   ]
  },
  {
   "cell_type": "markdown",
   "id": "32545b01-ab2e-4cf5-ad1c-ea1cc5341783",
   "metadata": {},
   "source": [
    "##### Delete the node D:"
   ]
  },
  {
   "cell_type": "raw",
   "id": "dce1fee1-6b6f-4c3c-8e69-2dfcbd210c42",
   "metadata": {},
   "source": [
    "          E\n",
    "       /    \\\n",
    "      C      H\n",
    "     / \\    /  \\\n",
    "    B   -   F    I\n",
    "   / \\     / \\  / \\          \n",
    "  A           G   \n",
    " / \\         / \\\n"
   ]
  },
  {
   "cell_type": "markdown",
   "id": "8d36ab4a-f2dd-482b-9642-ac066e3eb68a",
   "metadata": {},
   "source": [
    "##### Perform a right rotation at node C:"
   ]
  },
  {
   "cell_type": "markdown",
   "id": "1aa0b27e-0326-493c-a60b-7fa28ba9405a",
   "metadata": {
    "tags": []
   },
   "source": [
    "          E\n",
    "       /    \\\n",
    "      B      H\n",
    "     / \\    /  \\\n",
    "    A   C   F    I\n",
    "       / \\  / \\          \n",
    "          G   \n"
   ]
  },
  {
   "cell_type": "markdown",
   "id": "2588d1aa-72e7-43c1-8205-7d9369ecc1f0",
   "metadata": {},
   "source": [
    "## Q5:"
   ]
  },
  {
   "cell_type": "markdown",
   "id": "e0781b76-d73f-4d45-a025-a3e2a90f29f9",
   "metadata": {},
   "source": [
    "##### a. The total number of nodes in a complete binary tree of depth d equals 2d+1 - 1"
   ]
  },
  {
   "cell_type": "markdown",
   "id": "93a0309a-6f8a-4460-b969-eb0a6648de12",
   "metadata": {},
   "source": [
    "##### b. An almost complete strictly binary tree with N leaves has 2N - 1 nodes"
   ]
  },
  {
   "cell_type": "markdown",
   "id": "053f0229-da02-4baf-be14-626b1f5abf77",
   "metadata": {
    "tags": []
   },
   "source": [
    "## Q6:"
   ]
  },
  {
   "cell_type": "markdown",
   "id": "aa0918ab-06cd-4c39-a078-159c2fcbc598",
   "metadata": {},
   "source": [
    "##### The given sequence 2, 90, 63, 70, 68, 72, 57 cannot be the sequence of nodes examined in a binary search tree for the number 57. In a binary search tree, the sequence of examined nodes follows the order based on the comparison of values. The correct sequence would be in ascending or descending order, depending on the tree's structure."
   ]
  }
 ],
 "metadata": {
  "kernelspec": {
   "display_name": "Python 3 (ipykernel)",
   "language": "python",
   "name": "python3"
  },
  "language_info": {
   "codemirror_mode": {
    "name": "ipython",
    "version": 3
   },
   "file_extension": ".py",
   "mimetype": "text/x-python",
   "name": "python",
   "nbconvert_exporter": "python",
   "pygments_lexer": "ipython3",
   "version": "3.11.5"
  }
 },
 "nbformat": 4,
 "nbformat_minor": 5
}
