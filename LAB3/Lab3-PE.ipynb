{
 "cells": [
  {
   "cell_type": "markdown",
   "id": "993de1ff-3c4f-4699-bb1d-068e419767f4",
   "metadata": {},
   "source": [
    "# LAB 3-PE"
   ]
  },
  {
   "cell_type": "markdown",
   "id": "36eb6cbc-3e10-4e3c-bf36-7c1ad8ea9332",
   "metadata": {},
   "source": [
    "### Q1"
   ]
  },
  {
   "cell_type": "code",
   "execution_count": 1,
   "id": "4e9b3d93-5512-4f55-9dcd-18c8f6e5f281",
   "metadata": {
    "tags": []
   },
   "outputs": [
    {
     "name": "stdin",
     "output_type": "stream",
     "text": [
      "Enter a value for n:  5\n"
     ]
    },
    {
     "name": "stdout",
     "output_type": "stream",
     "text": [
      "The sum of all numbers from 1 to 5 is: 15\n"
     ]
    }
   ],
   "source": [
    "def recursive_sum(n):\n",
    "    if n == 1:\n",
    "        return 1\n",
    "    else:\n",
    "        return n + recursive_sum(n - 1)\n",
    "\n",
    "n = int(input(\"Enter a value for n: \"))\n",
    "result = recursive_sum(n)\n",
    "print(f\"The sum of all numbers from 1 to {n} is: {result}\")"
   ]
  },
  {
   "cell_type": "markdown",
   "id": "c196d363-85e4-4ba0-beee-7ed44f00c126",
   "metadata": {},
   "source": [
    "### Q2"
   ]
  },
  {
   "cell_type": "code",
   "execution_count": 13,
   "id": "11cff5aa-cbec-4e29-a0ca-025e068d1663",
   "metadata": {
    "tags": []
   },
   "outputs": [
    {
     "name": "stdout",
     "output_type": "stream",
     "text": [
      "Array: [3, 11, 4, 10, 5, 9, 2, 6, 5, 3, 5]\n",
      "Minimum element: 2\n"
     ]
    }
   ],
   "source": [
    "def find_min_recursive(a, n):\n",
    "    if n == 1:\n",
    "        return a[0]\n",
    "    rest_min = find_min_recursive(a[1:], n - 1)\n",
    "    return min(a[0], rest_min)\n",
    "\n",
    "array = [3, 11, 4, 10, 5, 9, 2, 6, 5, 3, 5]\n",
    "array_size = len(array)\n",
    "min_element = find_min_recursive(array, array_size)\n",
    "print(\"Array:\",array)\n",
    "print(\"Minimum element:\" ,min_element)"
   ]
  },
  {
   "cell_type": "markdown",
   "id": "ae0669a9-1c9a-4ddb-9e61-13b97d89b83e",
   "metadata": {},
   "source": [
    "### Q3"
   ]
  },
  {
   "cell_type": "code",
   "execution_count": 12,
   "id": "1b1e9f59-8af5-4e35-8c33-0a5dad3a8714",
   "metadata": {
    "tags": []
   },
   "outputs": [
    {
     "name": "stdout",
     "output_type": "stream",
     "text": [
      "Array: [3, 11, 4, 10, 5, 9, 2, 6, 5, 3, 5]\n",
      "Sum: 63\n"
     ]
    }
   ],
   "source": [
    "def find_sum_recursive(a, n):\n",
    "    if n == 0:\n",
    "        return 0\n",
    "    return a[0] + find_sum_recursive(a[1:], n - 1)\n",
    "\n",
    "\n",
    "array = [3, 11, 4, 10, 5, 9, 2, 6, 5, 3, 5]\n",
    "array_size = len(array)\n",
    "sum_of_elements = find_sum_recursive(array, array_size)\n",
    "print(\"Array:\",array)\n",
    "print(\"Sum:\" ,sum_of_elements)"
   ]
  },
  {
   "cell_type": "markdown",
   "id": "05b5cf72-cb3e-4a00-a491-e130a718ae74",
   "metadata": {},
   "source": [
    "### Q4"
   ]
  },
  {
   "cell_type": "code",
   "execution_count": 15,
   "id": "cb7f39c0-6f98-4359-adce-571d064c347a",
   "metadata": {
    "tags": []
   },
   "outputs": [
    {
     "name": "stdout",
     "output_type": "stream",
     "text": [
      "Is the first array a palindrome? 1\n",
      "Is the second array a palindrome? 0\n"
     ]
    }
   ],
   "source": [
    "def is_palindrome_recursive(a, n):\n",
    "    if n <= 1:\n",
    "        return 1\n",
    "    if a[0] == a[n - 1]:\n",
    "        return is_palindrome_recursive(a[1:n-1], n - 2)\n",
    "    else:\n",
    "        return 0\n",
    "\n",
    "\n",
    "array1 = [1, 2, 3, 4, 3, 2, 1]\n",
    "array2 = [1, 2, 3, 4, 5]\n",
    "\n",
    "size_palindrome = len(array1)\n",
    "size_non_palindrome = len(array2)\n",
    "\n",
    "result_palindrome = is_palindrome_recursive(array1, size_palindrome)\n",
    "result_non_palindrome = is_palindrome_recursive(array2, size_palindrome2)\n",
    "\n",
    "print(f\"Is the first array a palindrome? {result_palindrome}\")\n",
    "print(f\"Is the second array a palindrome? {result_non_palindrome}\")"
   ]
  },
  {
   "cell_type": "markdown",
   "id": "67a9a43b-4e77-4029-a5c8-57b5b8f162dc",
   "metadata": {},
   "source": [
    "### Q5"
   ]
  },
  {
   "cell_type": "code",
   "execution_count": 1,
   "id": "0a0f645c-3b0d-4878-a46c-4449080448dc",
   "metadata": {},
   "outputs": [
    {
     "name": "stdout",
     "output_type": "stream",
     "text": [
      "Target 7 found at index 6.\n"
     ]
    }
   ],
   "source": [
    "def binary_search_recursive(arr, target, low, high):\n",
    "    if low > high:\n",
    "        return -1\n",
    "    mid = (low + high) // 2\n",
    "    if arr[mid] == target:\n",
    "        return mid\n",
    "    elif target < arr[mid]:\n",
    "        return binary_search_recursive(arr, target, low, mid - 1)\n",
    "    else:\n",
    "        return binary_search_recursive(arr, target, mid + 1, high)\n",
    "\n",
    "sorted_array = [1, 2, 3, 4, 5, 6, 7, 8, 9, 10]\n",
    "target_value = 7\n",
    "result = binary_search_recursive(sorted_array, target_value, 0, len(sorted_array) - 1)\n",
    "if result != -1:\n",
    "    print(f\"Target {target_value} found at index {result}.\")\n",
    "else:\n",
    "    print(f\"Target {target_value} not found in the array.\")"
   ]
  },
  {
   "cell_type": "markdown",
   "id": "c4f847c6-11d0-4fa3-ad97-6fd732f268ca",
   "metadata": {},
   "source": [
    "### Q6"
   ]
  },
  {
   "cell_type": "code",
   "execution_count": 2,
   "id": "3b34ba77-f325-485d-bac2-b334e7e48bda",
   "metadata": {
    "tags": []
   },
   "outputs": [
    {
     "name": "stdout",
     "output_type": "stream",
     "text": [
      "The GCD of 48 and 18 is 6.\n"
     ]
    }
   ],
   "source": [
    "def gcd_recursive(a, b):\n",
    "    if b == 0:\n",
    "        return a\n",
    "    else:\n",
    "        return gcd_recursive(b, a % b)\n",
    "\n",
    "num1 = 48\n",
    "num2 = 18\n",
    "result = gcd_recursive(num1, num2)\n",
    "print(f\"The GCD of {num1} and {num2} is {result}.\")"
   ]
  },
  {
   "cell_type": "markdown",
   "id": "034d10ac-b0d0-4796-af4e-8a08128290b4",
   "metadata": {},
   "source": [
    "### Q7"
   ]
  },
  {
   "cell_type": "code",
   "execution_count": 7,
   "id": "6b3ae7a2-41a1-4852-aa18-097cb9477db7",
   "metadata": {
    "tags": []
   },
   "outputs": [
    {
     "name": "stdout",
     "output_type": "stream",
     "text": [
      "5 raised to the power of 2 is 25.\n"
     ]
    }
   ],
   "source": [
    "def power(N, P):\n",
    "    if P == 0:\n",
    "        return 1\n",
    "    return (N*power(N, P-1))\n",
    " \n",
    "N = 5\n",
    "P = 2 \n",
    "print(f\"{N} raised to the power of {P} is {power(N, P)}.\")"
   ]
  },
  {
   "cell_type": "markdown",
   "id": "e0cd8836-9412-4327-92cd-139089606d12",
   "metadata": {},
   "source": [
    "### Q8"
   ]
  },
  {
   "cell_type": "code",
   "execution_count": 16,
   "id": "bfd0929f-5ab7-4cbb-9fa8-ba6fef17716c",
   "metadata": {
    "tags": []
   },
   "outputs": [
    {
     "name": "stdout",
     "output_type": "stream",
     "text": [
      "The factorial of 5 is 120.\n"
     ]
    }
   ],
   "source": [
    "def fact(n): \n",
    "    if (n==1 or n==0):\n",
    "        return 1\n",
    "    else:\n",
    "        return (n * fact(n - 1)) \n",
    " \n",
    "print(f\"The factorial of {num} is {factorial(num)}.\")"
   ]
  },
  {
   "cell_type": "markdown",
   "id": "52cabb81-3aa5-426e-b4f4-c6ce815a76d5",
   "metadata": {},
   "source": [
    "### Q9"
   ]
  },
  {
   "cell_type": "code",
   "execution_count": 25,
   "id": "246662ff-9687-481f-872e-5b4e171a6a71",
   "metadata": {
    "tags": []
   },
   "outputs": [
    {
     "name": "stdout",
     "output_type": "stream",
     "text": [
      "The Fibonacci of 10 is 34.\n"
     ]
    }
   ],
   "source": [
    "def f(n):\n",
    "    if n<= 0:\n",
    "        print(\"Incorrect input\")\n",
    "    elif n == 1:\n",
    "        return 0\n",
    "    elif n == 2:\n",
    "        return 1\n",
    "    else:\n",
    "        return f(n-1)+f(n-2)\n",
    "\n",
    "n = 10\n",
    "print(f\"The Fibonacci of {n} is {f(n)}.\")\n"
   ]
  },
  {
   "cell_type": "markdown",
   "id": "a2bcdff7-b73f-4c1c-a1bc-32e29010513b",
   "metadata": {},
   "source": [
    "### Q10"
   ]
  },
  {
   "cell_type": "code",
   "execution_count": 31,
   "id": "0c6d32ed-c855-43d3-8880-3f980f10cbe2",
   "metadata": {
    "tags": []
   },
   "outputs": [
    {
     "name": "stdout",
     "output_type": "stream",
     "text": [
      "The sum of the first 3 reciprocals is 1.8333333333333333.\n"
     ]
    }
   ],
   "source": [
    "def addReciprocals(n):\n",
    "    if n == 1:\n",
    "        return 1\n",
    "    else:\n",
    "        return 1/n + addReciprocals(n - 1)\n",
    "\n",
    "n = 3\n",
    "print(f\"The sum of the first {n} reciprocals is {addReciprocals(n)}.\")\n"
   ]
  },
  {
   "cell_type": "markdown",
   "id": "4abd6e77-5e63-4e46-9702-3d821075a4ac",
   "metadata": {},
   "source": [
    "### Q11"
   ]
  },
  {
   "cell_type": "code",
   "execution_count": 3,
   "id": "65cf96c8-db92-4916-aa23-467c4fb9235f",
   "metadata": {
    "tags": []
   },
   "outputs": [
    {
     "name": "stdout",
     "output_type": "stream",
     "text": [
      "S(4, 2) = 26\n"
     ]
    }
   ],
   "source": [
    "def stirling_first(n, k):\n",
    "    if n == 0 and k == 0:\n",
    "        return 1\n",
    "    elif n > 0 and k == 0:\n",
    "        return 0\n",
    "    result = [[0] * (k + 1) for _ in range(n + 1)]\n",
    "    for i in range(n + 1):\n",
    "        for j in range(min(i, k) + 1):\n",
    "            if i == 0 and j == 0:\n",
    "                result[i][j] = 1\n",
    "            elif i > 0 and j == 0:\n",
    "                result[i][j] = 0\n",
    "            else:\n",
    "                result[i][j] = result[i - 1][j - 1] - i * result[i - 1][j]\n",
    "    return result[n][k]\n",
    "\n",
    "n = 4\n",
    "k = 2\n",
    "result = stirling_first(n, k)\n",
    "print(f\"S({n}, {k}) = {result}\")\n"
   ]
  },
  {
   "cell_type": "markdown",
   "id": "7e46afe9-7ab6-44e8-9ee7-4326de0fad20",
   "metadata": {},
   "source": [
    "### Q12"
   ]
  },
  {
   "cell_type": "code",
   "execution_count": 3,
   "id": "82990f9e-e716-4652-ae94-f185e339d210",
   "metadata": {
    "tags": []
   },
   "outputs": [
    {
     "name": "stdout",
     "output_type": "stream",
     "text": [
      "Height of tree is  4\n"
     ]
    }
   ],
   "source": [
    "class Tree_height:\n",
    "    def __init__(self, key):\n",
    "        self.data = key\n",
    "        self.left = None\n",
    "        self.right = None\n",
    "\n",
    "def isLeaf(node):\n",
    "    return node.left and node.left.right == node and \\\n",
    "        node.right and node.right.left == node\n",
    "\n",
    "def maxDepth(node):\n",
    "\n",
    "    if (node == None):\n",
    "        return 0\n",
    " \n",
    "    if (isLeaf(node)):\n",
    "        return 1\n",
    "\n",
    "    return 1 + max(maxDepth(node.left), maxDepth(node.right))\n",
    " \n",
    " \n",
    "if __name__ == '__main__':\n",
    "    root = Tree_height(1)\n",
    " \n",
    "    root.left = Tree_height(2)\n",
    "    root.right = Tree_height(3)\n",
    "    root.left.left = Tree_height(4)\n",
    "    root.left.right = Tree_height(5)\n",
    "    root.left.left.left = Tree_height(6)\n",
    "\n",
    "    L1 = root.left.left.left\n",
    "    L2 = root.left.right\n",
    "    L3 = root.right\n",
    "    \n",
    "    L1.right = L2\n",
    "    L2.right = L3\n",
    "    L3.right = L1\n",
    "    \n",
    "    L3.left = L2\n",
    "    L2.left = L1\n",
    "    L1.left = L3\n",
    " \n",
    "    print(\"Height of tree is \", maxDepth(root))\n"
   ]
  },
  {
   "cell_type": "markdown",
   "id": "e7eaea68-6fed-46fb-bd4f-07fad8c9dd20",
   "metadata": {},
   "source": [
    "### Q13"
   ]
  },
  {
   "cell_type": "code",
   "execution_count": 5,
   "id": "cf4184d2-fa09-48b2-a857-0b9a7128f828",
   "metadata": {
    "tags": []
   },
   "outputs": [
    {
     "name": "stdout",
     "output_type": "stream",
     "text": [
      "Size of the tree is 5\n"
     ]
    }
   ],
   "source": [
    "class Tree_size:\n",
    "    def __init__(self, data):\n",
    "        self.data = data \n",
    "        self.left = None\n",
    "        self.right = None\n",
    "\n",
    "def size(node):\n",
    "    if node is None:\n",
    "        return 0\n",
    "    else:\n",
    "        return (size(node.left)+ 1 + size(node.right))\n",
    " \n",
    " \n",
    "# Driver program to test above function\n",
    "root = Tree_size(1)\n",
    "root.left = Tree_size(2)\n",
    "root.right = Tree_size(3)\n",
    "root.left.left  = Tree_size(4)\n",
    "root.left.right = Tree_size(5)\n",
    " \n",
    "print(\"Size of the tree is %d\" %(size(root)))"
   ]
  },
  {
   "cell_type": "code",
   "execution_count": null,
   "id": "01814d75-1eac-4f9b-8e47-de4edebeb34c",
   "metadata": {},
   "outputs": [],
   "source": []
  }
 ],
 "metadata": {
  "kernelspec": {
   "display_name": "Python 3 (ipykernel)",
   "language": "python",
   "name": "python3"
  },
  "language_info": {
   "codemirror_mode": {
    "name": "ipython",
    "version": 3
   },
   "file_extension": ".py",
   "mimetype": "text/x-python",
   "name": "python",
   "nbconvert_exporter": "python",
   "pygments_lexer": "ipython3",
   "version": "3.11.5"
  }
 },
 "nbformat": 4,
 "nbformat_minor": 5
}
