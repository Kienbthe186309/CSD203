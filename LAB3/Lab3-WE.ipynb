{
 "cells": [
  {
   "cell_type": "markdown",
   "id": "a65a4489-be65-4921-89b3-ac4b4fcfd2e1",
   "metadata": {},
   "source": [
    "# LAB 3-WE"
   ]
  },
  {
   "cell_type": "markdown",
   "id": "b33ad2bd-8c24-48da-8140-f8f35f4b36ae",
   "metadata": {},
   "source": [
    "### Q1"
   ]
  },
  {
   "cell_type": "code",
   "execution_count": 2,
   "id": "78733ea9-1924-49ab-9b55-128c04d62da0",
   "metadata": {
    "tags": []
   },
   "outputs": [
    {
     "name": "stdout",
     "output_type": "stream",
     "text": [
      "For n = 1: [1]\n",
      "For n = 2: [2, 1]\n",
      "For n = 3: [3, 10, 5, 16, 8, 4, 2, 1]\n",
      "For n = 4: [4, 2, 1]\n",
      "For n = 5: [5, 16, 8, 4, 2, 1]\n",
      "For n = 6: [6, 3, 10, 5, 16, 8, 4, 2, 1]\n",
      "For n = 7: [7, 22, 11, 34, 17, 52, 26, 13, 40, 20, 10, 5, 16, 8, 4, 2, 1]\n",
      "For n = 8: [8, 4, 2, 1]\n",
      "For n = 9: [9, 28, 14, 7, 22, 11, 34, 17, 52, 26, 13, 40, 20, 10, 5, 16, 8, 4, 2, 1]\n"
     ]
    }
   ],
   "source": [
    "def puzzle(n):\n",
    "    if n == 1:\n",
    "        return [1]\n",
    "    elif n % 2 == 0:\n",
    "        return [n] + puzzle(n // 2)\n",
    "    else:\n",
    "        return [n] + puzzle(3 * n + 1)\n",
    "\n",
    "for i in range(1, 10):\n",
    "    sequence = puzzle(i)\n",
    "    print(f\"For n = {i}: {sequence}\")"
   ]
  },
  {
   "cell_type": "markdown",
   "id": "e4988ad0-ff21-4589-b1d5-bd9587acf3c8",
   "metadata": {},
   "source": [
    "### Q2"
   ]
  },
  {
   "cell_type": "code",
   "execution_count": 5,
   "id": "9afe7853-3d5b-4a60-bfd4-77c78250eeda",
   "metadata": {
    "tags": []
   },
   "outputs": [
    {
     "name": "stdout",
     "output_type": "stream",
     "text": [
      "2.1: The Base Case is when base > limit or base == limit\n",
      "2.2: The Recursive Case is when base < limit\n",
      "2.3 Function Calls:\n",
      "-1\n",
      "120\n",
      "1\n"
     ]
    }
   ],
   "source": [
    "def puzzle(base, limit):\n",
    "    if base > limit:\n",
    "        return -1\n",
    "    elif base == limit:\n",
    "        return 1\n",
    "    else:\n",
    "        return base * puzzle(base + 1, limit)\n",
    "print(f\"2.1: The Base Case is when base > limit or base == limit\")\n",
    "print(f\"2.2: The Recursive Case is when base < limit\")\n",
    "print(f\"2.3 Function Calls:\")\n",
    "print(puzzle(14, 10))\n",
    "print(puzzle(4, 7))\n",
    "print(puzzle(0,0))"
   ]
  },
  {
   "cell_type": "markdown",
   "id": "6aadb555-3621-4abd-8d20-de052a86c9ae",
   "metadata": {},
   "source": [
    "### Q3"
   ]
  },
  {
   "cell_type": "code",
   "execution_count": 8,
   "id": "24d48890-0150-421b-8340-dccf1eadb78f",
   "metadata": {
    "tags": []
   },
   "outputs": [
    {
     "name": "stdout",
     "output_type": "stream",
     "text": [
      "0\n",
      "1\n",
      "2\n",
      "3\n"
     ]
    }
   ],
   "source": [
    "def show(n):\n",
    "    if n > 0:\n",
    "        show(n // 10)\n",
    "    print(n % 10)\n",
    "show(123)"
   ]
  },
  {
   "cell_type": "markdown",
   "id": "34a9949a-d8e9-481b-bd9b-8d5e75380e2d",
   "metadata": {},
   "source": [
    "### Q4"
   ]
  },
  {
   "cell_type": "code",
   "execution_count": 12,
   "id": "6875e358-d900-4253-92a4-5f73b8d7a0fe",
   "metadata": {
    "tags": []
   },
   "outputs": [
    {
     "name": "stdout",
     "output_type": "stream",
     "text": [
      "4\n",
      "3\n",
      "1\n",
      "0\n"
     ]
    }
   ],
   "source": [
    "def show(n):\n",
    "    print(n%10)\n",
    "    if n>0: \n",
    "        show(n//10)\n",
    "show(134)"
   ]
  },
  {
   "cell_type": "markdown",
   "id": "46495db2-057f-4da2-971b-39222812bc6c",
   "metadata": {},
   "source": [
    "### Q5"
   ]
  },
  {
   "cell_type": "code",
   "execution_count": 14,
   "id": "864f7c2a-99e3-4fa3-9bcd-16b7adafaa1a",
   "metadata": {
    "tags": []
   },
   "outputs": [
    {
     "name": "stdout",
     "output_type": "stream",
     "text": [
      "5\n",
      "4\n",
      "1\n",
      "0\n",
      "0\n",
      "1\n",
      "4\n",
      "5\n"
     ]
    }
   ],
   "source": [
    "def show(n):\n",
    "    print((n%10))\n",
    "    if n>0: \n",
    "        show(n//10)\n",
    "    print((n%10))\n",
    "show(145)"
   ]
  },
  {
   "cell_type": "markdown",
   "id": "25022b49-4f8c-42be-9459-c84ed8d4c0b6",
   "metadata": {},
   "source": [
    "### Q6"
   ]
  },
  {
   "cell_type": "code",
   "execution_count": 17,
   "id": "1c274720-4371-44c5-8450-4c255367da95",
   "metadata": {
    "tags": []
   },
   "outputs": [
    {
     "name": "stdout",
     "output_type": "stream",
     "text": [
      "The sum of the first 3 reciprocals is 1.8333333333333333.\n"
     ]
    }
   ],
   "source": [
    "def addReciprocals(n):\n",
    "    if n == 1:\n",
    "        return 1\n",
    "    else:\n",
    "        return 1/n + addReciprocals(n - 1)\n",
    "\n",
    "n = 3\n",
    "print(f\"The sum of the first {n} reciprocals is {addReciprocals(n)}.\")"
   ]
  },
  {
   "cell_type": "markdown",
   "id": "fd8695a6-9db8-49d1-8127-04dbf6056057",
   "metadata": {},
   "source": [
    "### Q7"
   ]
  },
  {
   "cell_type": "code",
   "execution_count": 19,
   "id": "33bad39b-7377-4cc0-848b-10a5f9e47837",
   "metadata": {
    "tags": []
   },
   "outputs": [
    {
     "name": "stdout",
     "output_type": "stream",
     "text": [
      "a. Stopping (base) case handles values where b is 0:\n",
      "mystery(2, 0): 0\n",
      "\n",
      "b. Compute values for mystery(2, 25) and mystery(3, 11):\n",
      "mystery(2, 25): 50\n",
      "mystery(3, 11): 33\n",
      "\n",
      "Replace + with *:\n",
      "mystery_mult(2, 25): 33554432\n",
      "mystery_mult(3, 11): 177147\n",
      "\n",
      "c. Number of calls for mystery(3, 7):\n",
      "Number of calls for mystery(3, 7): 4\n"
     ]
    }
   ],
   "source": [
    "def mystery(a, b):\n",
    "    if b == 0:\n",
    "        return 0\n",
    "    elif b % 2 == 0:\n",
    "        return mystery(a + a, b // 2)\n",
    "    else:\n",
    "        return mystery(a + a, b // 2) + a\n",
    "\n",
    "print(\"a. Stopping (base) case handles values where b is 0:\")\n",
    "print(\"mystery(2, 0):\", mystery(2, 0)) \n",
    "\n",
    "print(\"\\nb. Compute values for mystery(2, 25) and mystery(3, 11):\")\n",
    "print(\"mystery(2, 25):\", mystery(2, 25))  \n",
    "print(\"mystery(3, 11):\", mystery(3, 11)) \n",
    "\n",
    "print(\"\\nReplace + with *:\")\n",
    "def mystery_mult(a, b):\n",
    "    if b == 0:\n",
    "        return 1\n",
    "    elif b % 2 == 0:\n",
    "        return mystery_mult(a * a, b // 2)\n",
    "    else:\n",
    "        return mystery_mult(a * a, b // 2) * a\n",
    "\n",
    "print(\"mystery_mult(2, 25):\", mystery_mult(2, 25))  # Result: 33554432\n",
    "print(\"mystery_mult(3, 11):\", mystery_mult(3, 11))  # Result: 177147\n",
    "\n",
    "print(\"\\nc. Number of calls for mystery(3, 7):\")\n",
    "def count_calls(a, b):\n",
    "    if b == 0:\n",
    "        return 1\n",
    "    elif b % 2 == 0:\n",
    "        return 1 + count_calls(a + a, b // 2)\n",
    "    else:\n",
    "        return 1 + count_calls(a + a, b // 2)\n",
    "\n",
    "calls = count_calls(3, 7)\n",
    "print(f\"Number of calls for mystery(3, 7): {calls}\")\n"
   ]
  },
  {
   "cell_type": "markdown",
   "id": "4b56dfb5-7e1c-45cf-89be-cfdc9dfa2fd6",
   "metadata": {},
   "source": [
    "### Q8"
   ]
  },
  {
   "cell_type": "code",
   "execution_count": 20,
   "id": "4a61a168-06c4-4685-833d-da942b6af100",
   "metadata": {
    "tags": []
   },
   "outputs": [
    {
     "name": "stdout",
     "output_type": "stream",
     "text": [
      "6\n",
      "4\n",
      "2\n",
      "2\n",
      "1\n",
      "1\n",
      "4\n",
      "3\n",
      "1\n",
      "1\n",
      "3\n",
      "6\n"
     ]
    }
   ],
   "source": [
    "def ex237(n):\n",
    "    if n <= 0:\n",
    "        return\n",
    "    print(n)\n",
    "    ex237(n - 2)\n",
    "    ex237(n - 3)\n",
    "    print(n)\n",
    "\n",
    "ex237(6)"
   ]
  },
  {
   "cell_type": "markdown",
   "id": "c9952ee7-91f1-43a1-b68d-343858988b80",
   "metadata": {},
   "source": [
    "### Q9"
   ]
  },
  {
   "cell_type": "code",
   "execution_count": 26,
   "id": "bf73e1a1-d167-4747-8b5d-e5091242e879",
   "metadata": {
    "tags": []
   },
   "outputs": [
    {
     "data": {
      "text/plain": [
       "'311361142246'"
      ]
     },
     "execution_count": 26,
     "metadata": {},
     "output_type": "execute_result"
    }
   ],
   "source": [
    "def ex238(n):\n",
    "    if n <= 0:\n",
    "        return \"\"\n",
    "    return (ex238(n-3) + str(n) + ex238(n-2) + str(n))\n",
    "\n",
    "ex238(6)"
   ]
  },
  {
   "cell_type": "markdown",
   "id": "7602ae8b-e760-47f8-9c64-9a71c9dfbf0c",
   "metadata": {},
   "source": [
    "### Q10"
   ]
  },
  {
   "cell_type": "code",
   "execution_count": 29,
   "id": "c2d5c1a3-988e-41b6-acc7-07cdc0ac6e3b",
   "metadata": {
    "tags": []
   },
   "outputs": [
    {
     "name": "stdout",
     "output_type": "stream",
     "text": [
      "Minimum moves for 4 disks is 15\n"
     ]
    }
   ],
   "source": [
    "def hanoi_moves(n):\n",
    "    if n == 1:\n",
    "        return 1\n",
    "    else:\n",
    "        return 2 * hanoi_moves(n - 1) + 1\n",
    "    \n",
    "n = 4  \n",
    "moves_recursive = hanoi_moves(n)\n",
    "\n",
    "print(f\"Minimum moves for {n} disks is {moves_recursive}\")"
   ]
  },
  {
   "cell_type": "code",
   "execution_count": null,
   "id": "d411e6ce-2c9c-4603-8da5-9fb707859819",
   "metadata": {},
   "outputs": [],
   "source": []
  }
 ],
 "metadata": {
  "kernelspec": {
   "display_name": "Python 3 (ipykernel)",
   "language": "python",
   "name": "python3"
  },
  "language_info": {
   "codemirror_mode": {
    "name": "ipython",
    "version": 3
   },
   "file_extension": ".py",
   "mimetype": "text/x-python",
   "name": "python",
   "nbconvert_exporter": "python",
   "pygments_lexer": "ipython3",
   "version": "3.11.5"
  }
 },
 "nbformat": 4,
 "nbformat_minor": 5
}
